{
 "cells": [
  {
   "cell_type": "markdown",
   "metadata": {
    "azdata_cell_guid": "bc0839f5-c526-4a9c-9149-6c775224f53d",
    "cellId": "f59rjvvulcqss0vb5zy0xf",
    "execution_id": "394b5bd5-f84c-42e8-9532-401973631d02"
   },
   "source": [
    "## Testing model"
   ]
  },
  {
   "cell_type": "code",
   "execution_count": null,
   "metadata": {
    "azdata_cell_guid": "26a3fb5d-0184-4da8-8742-82f93654add2",
    "cellId": "8nrfrzmfocjshvtnajp3ql",
    "tags": []
   },
   "outputs": [],
   "source": [
    "import os\n",
    "from os import path\n",
    "from glob import iglob\n",
    "from PIL import Image, ImageOps\n",
    "import numpy as np\n",
    "import base64\n",
    "import json\n",
    "from io import BytesIO\n",
    "import sys\n",
    "import lightgbm as lgb\n",
    "import shutil\n",
    "from datetime import datetime\n",
    "import boto3\n",
    "import io\n",
    "\n",
    "import keras\n",
    "from tensorflow.keras.applications.resnet50 import ResNet50\n",
    "from keras.preprocessing import image\n",
    "from keras.applications.imagenet_utils import preprocess_input\n",
    "\n",
    "os.environ[\"KERAS_BACKEND\"] = \"cntk\""
   ]
  },
  {
   "cell_type": "code",
   "execution_count": null,
   "metadata": {
    "cellId": "c3fr75wbplah9pb07c60ja"
   },
   "outputs": [],
   "source": [
    "# Name of your bucket with images\n",
    "bucket_name = 'bucketwithvideo'"
   ]
  },
  {
   "cell_type": "code",
   "execution_count": null,
   "metadata": {
    "azdata_cell_guid": "2e34e7b9-311b-4cb4-b4b5-7a71a1beb9d5",
    "cellId": "hk06xgku8hn9nye07g487f"
   },
   "outputs": [],
   "source": [
    "session = boto3.session.Session()\n",
    "\n",
    "ENDPOINT = \"https://storage.yandexcloud.net\"\n",
    "\n",
    "session = boto3.Session(\n",
    "    aws_access_key_id=(os.environ['token']),\n",
    "    aws_secret_access_key=(os.environ['key_value']),\n",
    "    region_name=\"ru-central1\",\n",
    ")\n",
    "\n",
    "\n",
    "s3 = session.client(\n",
    "    \"s3\", endpoint_url=ENDPOINT)\n",
    "\n",
    "def from_s3(bucket, key):\n",
    "    file_byte_string = s3.get_object(Bucket=bucket, Key=key)['Body'].read()\n",
    "    img = Image.open(io.BytesIO(file_byte_string))\n",
    "    return img"
   ]
  },
  {
   "cell_type": "code",
   "execution_count": null,
   "metadata": {
    "azdata_cell_guid": "ce29656e-cd82-4ff9-80df-015a80fe6d68",
    "cellId": "iwbqlquzsw32l79l5bu28"
   },
   "outputs": [],
   "source": [
    "test_image = 'car/car-17.jpeg'\n",
    "#test_image = 'bus/bus-183.jpeg'"
   ]
  },
  {
   "cell_type": "code",
   "execution_count": null,
   "metadata": {
    "azdata_cell_guid": "b23681c2-15ea-4e08-91ea-59d4e1cadf7a",
    "cellId": "nswstfd6kt12j1v5hks1lj"
   },
   "outputs": [],
   "source": [
    "fail_pil_image = from_s3(bucket_name, test_image)\n",
    "\n",
    "print(fail_pil_image.size)\n",
    "fail_pil_image"
   ]
  },
  {
   "cell_type": "markdown",
   "metadata": {
    "azdata_cell_guid": "67567886-cdba-49e3-8ebc-61e0fb3fe1cb",
    "cellId": "jayn9zaomwdr0054pougw",
    "execution_id": "286a610a-7ca9-4147-b7fd-cb60d1ff6129"
   },
   "source": [
    "## Prediction"
   ]
  },
  {
   "cell_type": "code",
   "execution_count": null,
   "metadata": {
    "azdata_cell_guid": "befda40d-6150-4359-9b40-97d69e24ee20",
    "cellId": "4rz7547jetf4mnx3diwx0l"
   },
   "outputs": [],
   "source": [
    "%%time\n",
    "clf = lgb.Booster(model_file='lightgbm_classifier.model')\n",
    "model = ResNet50(weights='imagenet',  input_shape=(224, 224, 3))\n",
    "img = from_s3(bucket_name, test_image).resize((224, 224))\n",
    "x = image.img_to_array(img)\n",
    "x = np.expand_dims(x, axis=0)\n",
    "x = preprocess_input(x)\n",
    "pred = model.predict(x).squeeze()  \n",
    "feat = pred.reshape(1, pred.shape[0])\n",
    "resp = clf.predict(feat)\n",
    "resp"
   ]
  }
 ],
 "metadata": {
  "language_info": {
   "codemirror_mode": {
    "name": "ipython",
    "version": 3
   },
   "file_extension": ".py",
   "mimetype": "text/x-python",
   "name": "python",
   "nbconvert_exporter": "python",
   "pygments_lexer": "ipython3",
   "version": "3.7.7"
  },
  "notebookId": "1522ecd3-1795-4dbb-9b8d-452f9c6dd489",
  "notebookPath": "ML/model-testing.ipynb",
  "toc": {
   "base_numbering": 1,
   "nav_menu": {},
   "number_sections": true,
   "sideBar": true,
   "skip_h1_title": false,
   "title_cell": "Table of Contents",
   "title_sidebar": "Contents",
   "toc_cell": false,
   "toc_position": {},
   "toc_section_display": true,
   "toc_window_display": false
  }
 },
 "nbformat": 4,
 "nbformat_minor": 4
}
